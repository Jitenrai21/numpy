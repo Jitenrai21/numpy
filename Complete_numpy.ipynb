{
 "cells": [
  {
   "cell_type": "markdown",
   "id": "077777b9-223c-465a-980a-13d116ec6a00",
   "metadata": {},
   "source": [
    "# Starting numpy"
   ]
  },
  {
   "cell_type": "markdown",
   "id": "13c63515-d19e-47f9-9e75-9f9b4e9e4734",
   "metadata": {},
   "source": [
    "# 1-D array"
   ]
  },
  {
   "cell_type": "code",
   "execution_count": 1,
   "id": "c3c44b72-80f7-4c83-afa2-3033f35d9023",
   "metadata": {},
   "outputs": [
    {
     "name": "stdout",
     "output_type": "stream",
     "text": [
      "[1 2 3 4 5]\n"
     ]
    }
   ],
   "source": [
    "import numpy as np\n",
    "arr = np.array([1,2,3,4,5])\n",
    "print(arr)"
   ]
  },
  {
   "cell_type": "code",
   "execution_count": 2,
   "id": "77375503-6233-4931-8b2b-ee8668c5121a",
   "metadata": {},
   "outputs": [
    {
     "name": "stdout",
     "output_type": "stream",
     "text": [
      "<class 'numpy.ndarray'>\n"
     ]
    }
   ],
   "source": [
    "print(type(arr))"
   ]
  },
  {
   "cell_type": "markdown",
   "id": "a45bbcfd-7f4f-4094-b3f1-db0b99dcb645",
   "metadata": {},
   "source": [
    "# 0-D array"
   ]
  },
  {
   "cell_type": "code",
   "execution_count": 3,
   "id": "c1fc48fb-4df1-4744-ba2f-fdd6b263b517",
   "metadata": {},
   "outputs": [
    {
     "name": "stdout",
     "output_type": "stream",
     "text": [
      "42\n"
     ]
    }
   ],
   "source": [
    "zeroD = np.array(42)\n",
    "print(zeroD)"
   ]
  },
  {
   "cell_type": "code",
   "execution_count": 4,
   "id": "49f86147-4e61-4a8a-8ffc-7f4ee88c25a2",
   "metadata": {},
   "outputs": [
    {
     "name": "stdout",
     "output_type": "stream",
     "text": [
      "<class 'numpy.ndarray'>\n"
     ]
    }
   ],
   "source": [
    "print(type(zeroD))"
   ]
  },
  {
   "cell_type": "markdown",
   "id": "5080495e-edcc-47a4-adb7-28b72e20b94f",
   "metadata": {},
   "source": [
    "# 2-D array"
   ]
  },
  {
   "cell_type": "code",
   "execution_count": 5,
   "id": "96ef6187-5efb-47c1-b2b6-97c1fe7cc13e",
   "metadata": {},
   "outputs": [
    {
     "name": "stdout",
     "output_type": "stream",
     "text": [
      "[[1 2 3]\n",
      " [4 5 6]]\n"
     ]
    }
   ],
   "source": [
    "twoD = np.array([[1,2,3],[4,5,6]])\n",
    "print(twoD)"
   ]
  },
  {
   "cell_type": "markdown",
   "id": "e4304136-7284-4f7a-916c-f1c63b85201a",
   "metadata": {},
   "source": [
    "# 2D with 3 arrays"
   ]
  },
  {
   "cell_type": "code",
   "execution_count": 20,
   "id": "7f644df7-dd3f-4dd9-8e70-c3e8d6575703",
   "metadata": {},
   "outputs": [
    {
     "name": "stdout",
     "output_type": "stream",
     "text": [
      "2\n"
     ]
    }
   ],
   "source": [
    "twoD = np.array([[1,2,3,4]])\n",
    "print(twoD.ndim)"
   ]
  },
  {
   "cell_type": "code",
   "execution_count": 8,
   "id": "d921d67a-692f-403b-a2d0-2c676d186d81",
   "metadata": {},
   "outputs": [
    {
     "name": "stdout",
     "output_type": "stream",
     "text": [
      "[[1 2 3]\n",
      " [4 5 6]\n",
      " [7 8 9]]\n"
     ]
    }
   ],
   "source": [
    "twoD = np.array([[1,2,3],[4,5,6],[7,8,9]])\n",
    "print(twoD)"
   ]
  },
  {
   "cell_type": "code",
   "execution_count": 9,
   "id": "7950dd4c-07cc-4527-a8d5-03d0b44e09d5",
   "metadata": {},
   "outputs": [
    {
     "name": "stdout",
     "output_type": "stream",
     "text": [
      "[[ 10  20  30]\n",
      " [100 110 120]]\n"
     ]
    }
   ],
   "source": [
    "twoD = np.array([[10,20,30],[100,110,120]])\n",
    "print(twoD)"
   ]
  },
  {
   "cell_type": "code",
   "execution_count": 10,
   "id": "f3fa49b3-5427-4787-ae45-b1aab091ff52",
   "metadata": {},
   "outputs": [
    {
     "name": "stdout",
     "output_type": "stream",
     "text": [
      "2\n"
     ]
    }
   ],
   "source": [
    "print(twoD.ndim)"
   ]
  },
  {
   "cell_type": "code",
   "execution_count": 18,
   "id": "026a8ecf-fafa-42c2-80a5-ed616d7711d2",
   "metadata": {},
   "outputs": [
    {
     "name": "stdout",
     "output_type": "stream",
     "text": [
      "110\n"
     ]
    }
   ],
   "source": [
    "print(twoD[1,1])"
   ]
  },
  {
   "cell_type": "markdown",
   "id": "e1a747b6-92cc-4826-bda6-0b43f3f774b9",
   "metadata": {},
   "source": [
    "# 3-D array"
   ]
  },
  {
   "cell_type": "code",
   "execution_count": 15,
   "id": "cd914985-8615-4fbc-9ae4-d61de2f728ce",
   "metadata": {},
   "outputs": [
    {
     "name": "stdout",
     "output_type": "stream",
     "text": [
      "[[[1 2 3]\n",
      "  [4 5 6]\n",
      "  [7 8 9]]]\n",
      "3\n"
     ]
    }
   ],
   "source": [
    "threeD = np.array([[[1,2,3],[4,5,6],[7,8,9]]])\n",
    "print(threeD)\n",
    "print(threeD.ndim)"
   ]
  },
  {
   "cell_type": "code",
   "execution_count": 17,
   "id": "841d589f-4549-4d4f-9b9e-e2f3a556557b",
   "metadata": {},
   "outputs": [
    {
     "name": "stdout",
     "output_type": "stream",
     "text": [
      "[7 8 9]\n"
     ]
    }
   ],
   "source": [
    "print(threeD[0, 2])\n"
   ]
  },
  {
   "cell_type": "code",
   "execution_count": 11,
   "id": "672c7be4-59fc-4b8a-b76a-c5e7d7652d3d",
   "metadata": {},
   "outputs": [
    {
     "name": "stdout",
     "output_type": "stream",
     "text": [
      "[[[ 1  2  3]\n",
      "  [ 4  5  6]]\n",
      "\n",
      " [[ 7  8  9]\n",
      "  [10 11 12]]]\n"
     ]
    }
   ],
   "source": [
    "threeD = np.array([[[1,2,3] ,[4,5,6]],[[7,8,9],[10,11,12]]])\n",
    "print(threeD)"
   ]
  },
  {
   "cell_type": "code",
   "execution_count": 12,
   "id": "d31fb924-6b57-4e2a-b9d1-eeb550e601e3",
   "metadata": {},
   "outputs": [
    {
     "name": "stdout",
     "output_type": "stream",
     "text": [
      "3\n"
     ]
    }
   ],
   "source": [
    "print(threeD.ndim)\n"
   ]
  },
  {
   "cell_type": "code",
   "execution_count": 13,
   "id": "f699d2bb-399b-4e2d-bed4-78e2acb7adaf",
   "metadata": {},
   "outputs": [
    {
     "name": "stdout",
     "output_type": "stream",
     "text": [
      "5\n"
     ]
    }
   ],
   "source": [
    "print(threeD[0,1,1])\n"
   ]
  },
  {
   "cell_type": "markdown",
   "id": "b58ccc5c-92d2-4050-a01d-2d4d2d37da6d",
   "metadata": {},
   "source": [
    "# ND array"
   ]
  },
  {
   "cell_type": "code",
   "execution_count": 14,
   "id": "a3c51936-99ab-4fa0-8bb8-39cbc7d73d25",
   "metadata": {},
   "outputs": [
    {
     "name": "stdout",
     "output_type": "stream",
     "text": [
      "[[[[[1 2 3]]]]]\n",
      "5\n"
     ]
    }
   ],
   "source": [
    "arr = np.array([1,2,3], ndmin = 5)\n",
    "print(arr)\n",
    "print(arr.ndim)"
   ]
  },
  {
   "cell_type": "code",
   "execution_count": 25,
   "id": "7ce40e58-a5d5-449a-bfcd-172066834f40",
   "metadata": {},
   "outputs": [
    {
     "name": "stdout",
     "output_type": "stream",
     "text": [
      "[[[[1 2]\n",
      "   [3 4]\n",
      "   [5 6]\n",
      "   [7 8]]]]\n"
     ]
    }
   ],
   "source": [
    "arr = np.array([[1,2],[3,4],[5,6],[7,8]], ndmin = 4)\n",
    "print(arr)\n"
   ]
  },
  {
   "cell_type": "markdown",
   "id": "0fafef52-5115-4e4a-b587-d7b2ed422a38",
   "metadata": {},
   "source": [
    "# Transposition"
   ]
  },
  {
   "cell_type": "code",
   "execution_count": 26,
   "id": "56ffee73-4092-400b-acb0-5f24a647e3db",
   "metadata": {},
   "outputs": [
    {
     "name": "stdout",
     "output_type": "stream",
     "text": [
      "Original array: \n",
      "[[1 2 3]\n",
      " [4 5 6]]\n",
      "Transposed array: \n",
      "[[1 4]\n",
      " [2 5]\n",
      " [3 6]]\n"
     ]
    }
   ],
   "source": [
    "arr = np.array([[1,2,3],[4,5,6]])\n",
    "print(f\"Original array: \\n{arr}\")\n",
    "transpose_arr = arr.transpose()\n",
    "print(f\"Transposed array: \\n{transpose_arr}\")"
   ]
  },
  {
   "cell_type": "markdown",
   "id": "6a0f04c9-50b1-430e-b7fd-655bc2c27b8f",
   "metadata": {},
   "source": [
    "# Ufuncs in numpy"
   ]
  },
  {
   "cell_type": "code",
   "execution_count": 28,
   "id": "11daba64-bca9-44f0-80df-2bb965d2a5e5",
   "metadata": {},
   "outputs": [
    {
     "name": "stdout",
     "output_type": "stream",
     "text": [
      "[ 6  8 10 12]\n",
      "<class 'numpy.ndarray'>\n",
      "<class 'numpy.ufunc'>\n"
     ]
    }
   ],
   "source": [
    "x = [1,2,3,4]\n",
    "y = [5,6,7,8]\n",
    "z = np.add(x,y)\n",
    "print(z)\n",
    "print(type(z))\n",
    "print(type(np.add))"
   ]
  },
  {
   "cell_type": "markdown",
   "id": "3b1e35d2-7e8c-4f39-9575-8c51a48ce6ea",
   "metadata": {},
   "source": [
    "# Conversion of py func into ufunc"
   ]
  },
  {
   "cell_type": "code",
   "execution_count": 30,
   "id": "08ccdce3-bddf-40d1-85c2-dfed15273245",
   "metadata": {},
   "outputs": [
    {
     "name": "stdout",
     "output_type": "stream",
     "text": [
      "[6 8 10 12]\n"
     ]
    }
   ],
   "source": [
    "def myadd(x,y):\n",
    "    return x + y\n",
    "myadd = np.frompyfunc(myadd, 2, 1)\n",
    "print(myadd([1,2,3,4],[5,6,7,8]))"
   ]
  },
  {
   "cell_type": "markdown",
   "id": "bff92926-ad2e-4481-961d-84e54b4740a5",
   "metadata": {},
   "source": [
    "# For multiplication in numpy \n",
    "options:\n",
    "np.dot(A,B),\n",
    "A @ B,\n",
    "np.matmul(A,B)"
   ]
  },
  {
   "cell_type": "code",
   "execution_count": 17,
   "id": "4a6afb58-5466-4720-8ed1-04cffd46d2b7",
   "metadata": {},
   "outputs": [
    {
     "name": "stdout",
     "output_type": "stream",
     "text": [
      "[ 4 10 18]\n"
     ]
    }
   ],
   "source": [
    "import numpy as np\n",
    "A = np.array([1,2,3])\n",
    "B = np.array([4,5,6])\n",
    "C = A * B\n",
    "print(C)"
   ]
  },
  {
   "cell_type": "code",
   "execution_count": 3,
   "id": "9a209229-8b43-45ba-aac2-f3d5b16e642f",
   "metadata": {},
   "outputs": [
    {
     "name": "stdout",
     "output_type": "stream",
     "text": [
      "[[19 22]\n",
      " [43 50]]\n"
     ]
    }
   ],
   "source": [
    "A = np.array([[1,2], [3,4]])\n",
    "B = np.array([[5,6], [7,8]])\n",
    "C = np.dot(A,B)\n",
    "print(C)\n"
   ]
  },
  {
   "cell_type": "markdown",
   "id": "71d59591-d99b-41f6-8b7c-eb3e92f7e990",
   "metadata": {},
   "source": [
    "# Exponentiation in numpy"
   ]
  },
  {
   "cell_type": "code",
   "execution_count": 4,
   "id": "eba4ed8f-9a40-4a56-b65e-7d438c3c9faa",
   "metadata": {},
   "outputs": [
    {
     "name": "stdout",
     "output_type": "stream",
     "text": [
      "[1 4 9]\n"
     ]
    }
   ],
   "source": [
    "A = np.array([1,2,3])\n",
    "B = np.power(A, 2)\n",
    "print(B)"
   ]
  },
  {
   "cell_type": "code",
   "execution_count": 5,
   "id": "06af973c-a161-43b9-a8e0-69ca448b8294",
   "metadata": {},
   "outputs": [
    {
     "name": "stdout",
     "output_type": "stream",
     "text": [
      "[1 4 9]\n"
     ]
    }
   ],
   "source": [
    "A = np.array([1,2,3])\n",
    "B = A ** 2\n",
    "print(B)"
   ]
  },
  {
   "cell_type": "code",
   "execution_count": 9,
   "id": "ec9112f3-248e-4822-a7af-882d27ea994c",
   "metadata": {},
   "outputs": [
    {
     "name": "stdout",
     "output_type": "stream",
     "text": [
      "[2 4 8]\n"
     ]
    }
   ],
   "source": [
    "A = np.array([1,2,3])\n",
    "B = 2 ** A\n",
    "print(B)"
   ]
  },
  {
   "cell_type": "markdown",
   "id": "d2641a25-4de1-46e4-967c-dd7dfb6d71a4",
   "metadata": {},
   "source": [
    "# Modulus in numpy"
   ]
  },
  {
   "cell_type": "code",
   "execution_count": 7,
   "id": "e04b5075-9ce4-4f06-bfe5-568547796b05",
   "metadata": {},
   "outputs": [
    {
     "name": "stdout",
     "output_type": "stream",
     "text": [
      "[2 2 0]\n"
     ]
    }
   ],
   "source": [
    "A = np.array([10,22,30])\n",
    "B = np.array([4,5,6])\n",
    "C = np.mod(A,B)\n",
    "print(C)"
   ]
  },
  {
   "cell_type": "code",
   "execution_count": 8,
   "id": "8deafc43-59c2-4b3b-946c-b1d8142680ea",
   "metadata": {},
   "outputs": [
    {
     "name": "stdout",
     "output_type": "stream",
     "text": [
      "[2 2 0]\n"
     ]
    }
   ],
   "source": [
    "A = np.array([10,22,30])\n",
    "B = np.array([4,5,6])\n",
    "C = A % B\n",
    "print(C)"
   ]
  },
  {
   "cell_type": "code",
   "execution_count": 19,
   "id": "abe71883-3f65-4492-b02a-804ebd7243da",
   "metadata": {},
   "outputs": [
    {
     "name": "stdout",
     "output_type": "stream",
     "text": [
      "[1 64 2187 65536]\n"
     ]
    }
   ],
   "source": [
    "def mymul(x,y):\n",
    "    return x ** y\n",
    "mymul = np.frompyfunc(mymul, 2, 1)\n",
    "print(mymul([1,2,3,4],[5,6,7,8]))"
   ]
  },
  {
   "cell_type": "markdown",
   "id": "2f8bdf85-e6af-4b2e-bcc0-24b0ef497c58",
   "metadata": {},
   "source": [
    "# Log array in Numpy"
   ]
  },
  {
   "cell_type": "code",
   "execution_count": 23,
   "id": "e3ccdb28-3fff-40e3-b2a6-d3a23b96f53b",
   "metadata": {},
   "outputs": [
    {
     "name": "stdout",
     "output_type": "stream",
     "text": [
      "This is the array given: [2, 3, 4, 5, 6, 256]\n",
      "This is the log array: [0.69314718 1.09861229 1.38629436 1.60943791 1.79175947 5.54517744]\n",
      "\n",
      "np.log(4**4): 5.545177444479562\n"
     ]
    }
   ],
   "source": [
    "in_array = [2, 3, 4, 5, 6, 2**8]\n",
    "print(f\"This is the array given: {in_array}\")\n",
    "out_array = np.log(in_array)\n",
    "print(f\"This is the log array: {out_array}\")\n",
    "print(\"\\nnp.log(4**4):\", np.log(4**4))\n"
   ]
  },
  {
   "cell_type": "markdown",
   "id": "956b0485-b860-4f73-bdbe-9dd5749a6bb9",
   "metadata": {},
   "source": [
    "# Finding LCM"
   ]
  },
  {
   "cell_type": "code",
   "execution_count": 31,
   "id": "61a20ccd-d7d7-4d5a-a25b-18c879459323",
   "metadata": {},
   "outputs": [
    {
     "name": "stdout",
     "output_type": "stream",
     "text": [
      "18\n"
     ]
    }
   ],
   "source": [
    "arr = np.array([3, 6, 9])\n",
    "lcm = np.lcm.reduce(arr)\n",
    "print(lcm)"
   ]
  },
  {
   "cell_type": "markdown",
   "id": "2b7b52f9-82d4-4341-b19f-ba323e525a08",
   "metadata": {},
   "source": [
    "# Searching arrays Finds indexes"
   ]
  },
  {
   "cell_type": "code",
   "execution_count": 42,
   "id": "ac39ded3-9f5c-449e-bb16-16566fbb1e4f",
   "metadata": {},
   "outputs": [
    {
     "name": "stdout",
     "output_type": "stream",
     "text": [
      "(array([ 0,  5,  9, 13]),)\n",
      "(array([ 1,  6, 10]),)\n",
      "<class 'tuple'>\n",
      "True\n"
     ]
    }
   ],
   "source": [
    "arr = np.array([1,2,3,4,5,1,2,6,7,1,2,3,6,1,-1])\n",
    "target = np.where(arr==1 )\n",
    "sec_target = np.where(arr == 2)\n",
    "evry = np.all(arr)\n",
    "print(target)\n",
    "print(sec_target)\n",
    "print(type(target))\n",
    "print(evry)"
   ]
  },
  {
   "cell_type": "markdown",
   "id": "1cd9463c-60f2-4604-bfcf-e3f8bb85fa45",
   "metadata": {},
   "source": [
    "# Finding indexes of even numbers in array"
   ]
  },
  {
   "cell_type": "code",
   "execution_count": 41,
   "id": "7d6896bd-ca3a-4f41-a61b-639d3e385ebb",
   "metadata": {},
   "outputs": [
    {
     "name": "stdout",
     "output_type": "stream",
     "text": [
      "(array([ 1,  3,  6,  7, 10, 12]),)\n"
     ]
    }
   ],
   "source": [
    "arr = np.array([1,2,3,4,5,1,2,6,7,1,2,3,6,1,-1])\n",
    "even = np.where(arr%2 ==0 )\n",
    "print(even)"
   ]
  },
  {
   "cell_type": "markdown",
   "id": "8e914aa9-0d6d-45a7-8a62-6c8dffd9f2b9",
   "metadata": {},
   "source": [
    "# Sorting "
   ]
  },
  {
   "cell_type": "code",
   "execution_count": 43,
   "id": "4e7b3a4a-22e4-451d-9b61-e5670817a48e",
   "metadata": {},
   "outputs": [
    {
     "name": "stdout",
     "output_type": "stream",
     "text": [
      "[ 0  1  2  3  3  4  6  7  9  9 13 56]\n"
     ]
    }
   ],
   "source": [
    "arr = np.array([1,6,9,0,13,56,3,4,7,2,3,9])\n",
    "sorted_arr = np.sort(arr)\n",
    "print(sorted_arr)"
   ]
  },
  {
   "cell_type": "markdown",
   "id": "5444ea7d-ec21-4d5b-8521-412dbbc24b90",
   "metadata": {},
   "source": [
    "# Sorting for large array with diff datatype values, gives output in string type and inaccuracy in integers"
   ]
  },
  {
   "cell_type": "code",
   "execution_count": 51,
   "id": "0ad922c6-c104-4e9e-941c-2acd81c2a7af",
   "metadata": {},
   "outputs": [
    {
     "name": "stdout",
     "output_type": "stream",
     "text": [
      "['0' '1' '13' '2' '3' '3' '4' '56' '6' '7' '9' '9' 'False' 'False' 'False'\n",
      " 'True' 'True' 'True' 'apple' 'banana' 'orange']\n",
      "<class 'numpy.ndarray'>\n",
      "1\n",
      "<class 'numpy.str_'>\n"
     ]
    }
   ],
   "source": [
    "arr = np.array(['orange', 'apple','banana',1,6,9,0,13,56,3,4,7,2,3,9,True, False,True, False,True, False])\n",
    "sorted_arr = np.sort(arr)\n",
    "print(sorted_arr)\n",
    "print(type(sorted_arr))\n",
    "print(sorted_arr[1])\n",
    "print(type(sorted_arr[1]))"
   ]
  },
  {
   "cell_type": "markdown",
   "id": "ded77f60-ce28-454e-a9cf-27ae7dc079d4",
   "metadata": {},
   "source": [
    "# Saving and loading the array"
   ]
  },
  {
   "cell_type": "code",
   "execution_count": 61,
   "id": "86ee1fa1-361e-4ea6-bf0c-afca3869df04",
   "metadata": {},
   "outputs": [],
   "source": [
    "arr = np.array([[1,2,3],[4,5,6]])\n",
    "np.save('C:/Users/ACER/OneDrive/Desktop/jupyter/.npy', arr)\n"
   ]
  },
  {
   "cell_type": "code",
   "execution_count": 62,
   "id": "f139d837-132c-4401-8f28-a6993b985b48",
   "metadata": {},
   "outputs": [
    {
     "name": "stdout",
     "output_type": "stream",
     "text": [
      "[[1 2 3]\n",
      " [4 5 6]]\n"
     ]
    }
   ],
   "source": [
    "loaded_array = np.load('C:/Users/ACER/OneDrive/Desktop/jupyter/.npy')\n",
    "print(loaded_array)"
   ]
  },
  {
   "cell_type": "markdown",
   "id": "a928984f-e00c-4959-8b39-59bda9280967",
   "metadata": {},
   "source": [
    "# Saving and loading the array in txt extension"
   ]
  },
  {
   "cell_type": "code",
   "execution_count": 64,
   "id": "1647210b-bc58-462a-9708-44c06927fd37",
   "metadata": {},
   "outputs": [],
   "source": [
    "arr = np.array([[1,2,3],[4,5,6]])\n",
    "np.savetxt('C:/Users/ACER/OneDrive/Desktop/jupyter/.txt', arr)"
   ]
  },
  {
   "cell_type": "code",
   "execution_count": 66,
   "id": "37ed5ce5-6b46-4875-b853-244a56d7e499",
   "metadata": {},
   "outputs": [
    {
     "name": "stdout",
     "output_type": "stream",
     "text": [
      "[[1. 2. 3.]\n",
      " [4. 5. 6.]]\n"
     ]
    }
   ],
   "source": [
    "loaded = np.loadtxt('C:/Users/ACER/OneDrive/Desktop/jupyter/.txt')\n",
    "print(loaded)"
   ]
  },
  {
   "cell_type": "code",
   "execution_count": null,
   "id": "a33b204b",
   "metadata": {},
   "outputs": [],
   "source": []
  }
 ],
 "metadata": {
  "kernelspec": {
   "display_name": "Python 3 (ipykernel)",
   "language": "python",
   "name": "python3"
  },
  "language_info": {
   "codemirror_mode": {
    "name": "ipython",
    "version": 3
   },
   "file_extension": ".py",
   "mimetype": "text/x-python",
   "name": "python",
   "nbconvert_exporter": "python",
   "pygments_lexer": "ipython3",
   "version": "3.12.4"
  }
 },
 "nbformat": 4,
 "nbformat_minor": 5
}
