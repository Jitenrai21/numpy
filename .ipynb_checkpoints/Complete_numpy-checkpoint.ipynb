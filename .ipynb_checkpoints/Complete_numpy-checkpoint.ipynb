{
 "cells": [
  {
   "cell_type": "markdown",
   "id": "077777b9-223c-465a-980a-13d116ec6a00",
   "metadata": {},
   "source": [
    "# Starting numpy"
   ]
  },
  {
   "cell_type": "markdown",
   "id": "13c63515-d19e-47f9-9e75-9f9b4e9e4734",
   "metadata": {},
   "source": [
    "# 1-D array"
   ]
  },
  {
   "cell_type": "code",
   "execution_count": 1,
   "id": "c3c44b72-80f7-4c83-afa2-3033f35d9023",
   "metadata": {},
   "outputs": [
    {
     "name": "stdout",
     "output_type": "stream",
     "text": [
      "[1 2 3 4 5]\n"
     ]
    }
   ],
   "source": [
    "import numpy as np\n",
    "arr = np.array([1,2,3,4,5])\n",
    "print(arr)"
   ]
  },
  {
   "cell_type": "code",
   "execution_count": 2,
   "id": "77375503-6233-4931-8b2b-ee8668c5121a",
   "metadata": {},
   "outputs": [
    {
     "name": "stdout",
     "output_type": "stream",
     "text": [
      "<class 'numpy.ndarray'>\n"
     ]
    }
   ],
   "source": [
    "print(type(arr))"
   ]
  },
  {
   "cell_type": "markdown",
   "id": "a45bbcfd-7f4f-4094-b3f1-db0b99dcb645",
   "metadata": {},
   "source": [
    "# 0-D array"
   ]
  },
  {
   "cell_type": "code",
   "execution_count": 3,
   "id": "c1fc48fb-4df1-4744-ba2f-fdd6b263b517",
   "metadata": {},
   "outputs": [
    {
     "name": "stdout",
     "output_type": "stream",
     "text": [
      "42\n"
     ]
    }
   ],
   "source": [
    "zeroD = np.array(42)\n",
    "print(zeroD)"
   ]
  },
  {
   "cell_type": "code",
   "execution_count": 4,
   "id": "49f86147-4e61-4a8a-8ffc-7f4ee88c25a2",
   "metadata": {},
   "outputs": [
    {
     "name": "stdout",
     "output_type": "stream",
     "text": [
      "<class 'numpy.ndarray'>\n"
     ]
    }
   ],
   "source": [
    "print(type(zeroD))"
   ]
  },
  {
   "cell_type": "markdown",
   "id": "5080495e-edcc-47a4-adb7-28b72e20b94f",
   "metadata": {},
   "source": [
    "# 2-D array"
   ]
  },
  {
   "cell_type": "code",
   "execution_count": 5,
   "id": "96ef6187-5efb-47c1-b2b6-97c1fe7cc13e",
   "metadata": {},
   "outputs": [
    {
     "name": "stdout",
     "output_type": "stream",
     "text": [
      "[[1 2 3]\n",
      " [4 5 6]]\n"
     ]
    }
   ],
   "source": [
    "twoD = np.array([[1,2,3],[4,5,6]])\n",
    "print(twoD)"
   ]
  },
  {
   "cell_type": "markdown",
   "id": "e4304136-7284-4f7a-916c-f1c63b85201a",
   "metadata": {},
   "source": [
    "# 2D with 3 arrays"
   ]
  },
  {
   "cell_type": "code",
   "execution_count": 20,
   "id": "7f644df7-dd3f-4dd9-8e70-c3e8d6575703",
   "metadata": {},
   "outputs": [
    {
     "name": "stdout",
     "output_type": "stream",
     "text": [
      "2\n"
     ]
    }
   ],
   "source": [
    "twoD = np.array([[1,2,3,4]])\n",
    "print(twoD.ndim)"
   ]
  },
  {
   "cell_type": "code",
   "execution_count": 8,
   "id": "d921d67a-692f-403b-a2d0-2c676d186d81",
   "metadata": {},
   "outputs": [
    {
     "name": "stdout",
     "output_type": "stream",
     "text": [
      "[[1 2 3]\n",
      " [4 5 6]\n",
      " [7 8 9]]\n"
     ]
    }
   ],
   "source": [
    "twoD = np.array([[1,2,3],[4,5,6],[7,8,9]])\n",
    "print(twoD)"
   ]
  },
  {
   "cell_type": "code",
   "execution_count": 9,
   "id": "7950dd4c-07cc-4527-a8d5-03d0b44e09d5",
   "metadata": {},
   "outputs": [
    {
     "name": "stdout",
     "output_type": "stream",
     "text": [
      "[[ 10  20  30]\n",
      " [100 110 120]]\n"
     ]
    }
   ],
   "source": [
    "twoD = np.array([[10,20,30],[100,110,120]])\n",
    "print(twoD)"
   ]
  },
  {
   "cell_type": "code",
   "execution_count": 10,
   "id": "f3fa49b3-5427-4787-ae45-b1aab091ff52",
   "metadata": {},
   "outputs": [
    {
     "name": "stdout",
     "output_type": "stream",
     "text": [
      "2\n"
     ]
    }
   ],
   "source": [
    "print(twoD.ndim)"
   ]
  },
  {
   "cell_type": "code",
   "execution_count": 18,
   "id": "026a8ecf-fafa-42c2-80a5-ed616d7711d2",
   "metadata": {},
   "outputs": [
    {
     "name": "stdout",
     "output_type": "stream",
     "text": [
      "110\n"
     ]
    }
   ],
   "source": [
    "print(twoD[1,1])"
   ]
  },
  {
   "cell_type": "markdown",
   "id": "e1a747b6-92cc-4826-bda6-0b43f3f774b9",
   "metadata": {},
   "source": [
    "# 3-D array"
   ]
  },
  {
   "cell_type": "code",
   "execution_count": 15,
   "id": "cd914985-8615-4fbc-9ae4-d61de2f728ce",
   "metadata": {},
   "outputs": [
    {
     "name": "stdout",
     "output_type": "stream",
     "text": [
      "[[[1 2 3]\n",
      "  [4 5 6]\n",
      "  [7 8 9]]]\n",
      "3\n"
     ]
    }
   ],
   "source": [
    "threeD = np.array([[[1,2,3],[4,5,6],[7,8,9]]])\n",
    "print(threeD)\n",
    "print(threeD.ndim)"
   ]
  },
  {
   "cell_type": "code",
   "execution_count": 17,
   "id": "841d589f-4549-4d4f-9b9e-e2f3a556557b",
   "metadata": {},
   "outputs": [
    {
     "name": "stdout",
     "output_type": "stream",
     "text": [
      "[7 8 9]\n"
     ]
    }
   ],
   "source": [
    "print(threeD[0, 2])\n"
   ]
  },
  {
   "cell_type": "code",
   "execution_count": 11,
   "id": "672c7be4-59fc-4b8a-b76a-c5e7d7652d3d",
   "metadata": {},
   "outputs": [
    {
     "name": "stdout",
     "output_type": "stream",
     "text": [
      "[[[ 1  2  3]\n",
      "  [ 4  5  6]]\n",
      "\n",
      " [[ 7  8  9]\n",
      "  [10 11 12]]]\n"
     ]
    }
   ],
   "source": [
    "threeD = np.array([[[1,2,3] ,[4,5,6]],[[7,8,9],[10,11,12]]])\n",
    "print(threeD)"
   ]
  },
  {
   "cell_type": "code",
   "execution_count": 12,
   "id": "d31fb924-6b57-4e2a-b9d1-eeb550e601e3",
   "metadata": {},
   "outputs": [
    {
     "name": "stdout",
     "output_type": "stream",
     "text": [
      "3\n"
     ]
    }
   ],
   "source": [
    "print(threeD.ndim)\n"
   ]
  },
  {
   "cell_type": "code",
   "execution_count": 13,
   "id": "f699d2bb-399b-4e2d-bed4-78e2acb7adaf",
   "metadata": {},
   "outputs": [
    {
     "name": "stdout",
     "output_type": "stream",
     "text": [
      "5\n"
     ]
    }
   ],
   "source": [
    "print(threeD[0,1,1])\n"
   ]
  },
  {
   "cell_type": "markdown",
   "id": "b58ccc5c-92d2-4050-a01d-2d4d2d37da6d",
   "metadata": {},
   "source": [
    "# ND array"
   ]
  },
  {
   "cell_type": "code",
   "execution_count": 14,
   "id": "a3c51936-99ab-4fa0-8bb8-39cbc7d73d25",
   "metadata": {},
   "outputs": [
    {
     "name": "stdout",
     "output_type": "stream",
     "text": [
      "[[[[[1 2 3]]]]]\n",
      "5\n"
     ]
    }
   ],
   "source": [
    "arr = np.array([1,2,3], ndmin = 5)\n",
    "print(arr)\n",
    "print(arr.ndim)"
   ]
  },
  {
   "cell_type": "code",
   "execution_count": 25,
   "id": "7ce40e58-a5d5-449a-bfcd-172066834f40",
   "metadata": {},
   "outputs": [
    {
     "name": "stdout",
     "output_type": "stream",
     "text": [
      "[[[[1 2]\n",
      "   [3 4]\n",
      "   [5 6]\n",
      "   [7 8]]]]\n"
     ]
    }
   ],
   "source": [
    "arr = np.array([[1,2],[3,4],[5,6],[7,8]], ndmin = 4)\n",
    "print(arr)\n"
   ]
  },
  {
   "cell_type": "markdown",
   "id": "0fafef52-5115-4e4a-b587-d7b2ed422a38",
   "metadata": {},
   "source": [
    "# Transposition"
   ]
  },
  {
   "cell_type": "code",
   "execution_count": 26,
   "id": "56ffee73-4092-400b-acb0-5f24a647e3db",
   "metadata": {},
   "outputs": [
    {
     "name": "stdout",
     "output_type": "stream",
     "text": [
      "Original array: \n",
      "[[1 2 3]\n",
      " [4 5 6]]\n",
      "Transposed array: \n",
      "[[1 4]\n",
      " [2 5]\n",
      " [3 6]]\n"
     ]
    }
   ],
   "source": [
    "arr = np.array([[1,2,3],[4,5,6]])\n",
    "print(f\"Original array: \\n{arr}\")\n",
    "transpose_arr = arr.transpose()\n",
    "print(f\"Transposed array: \\n{transpose_arr}\")"
   ]
  },
  {
   "cell_type": "markdown",
   "id": "6a0f04c9-50b1-430e-b7fd-655bc2c27b8f",
   "metadata": {},
   "source": [
    "# Ufuncs in numpy"
   ]
  },
  {
   "cell_type": "code",
   "execution_count": 28,
   "id": "11daba64-bca9-44f0-80df-2bb965d2a5e5",
   "metadata": {},
   "outputs": [
    {
     "name": "stdout",
     "output_type": "stream",
     "text": [
      "[ 6  8 10 12]\n",
      "<class 'numpy.ndarray'>\n",
      "<class 'numpy.ufunc'>\n"
     ]
    }
   ],
   "source": [
    "x = [1,2,3,4]\n",
    "y = [5,6,7,8]\n",
    "z = np.add(x,y)\n",
    "print(z)\n",
    "print(type(z))\n",
    "print(type(np.add))"
   ]
  },
  {
   "cell_type": "markdown",
   "id": "3b1e35d2-7e8c-4f39-9575-8c51a48ce6ea",
   "metadata": {},
   "source": [
    "# Conversion of py func into ufunc"
   ]
  },
  {
   "cell_type": "code",
   "execution_count": 30,
   "id": "08ccdce3-bddf-40d1-85c2-dfed15273245",
   "metadata": {},
   "outputs": [
    {
     "name": "stdout",
     "output_type": "stream",
     "text": [
      "[6 8 10 12]\n"
     ]
    }
   ],
   "source": [
    "def myadd(x,y):\n",
    "    return x + y\n",
    "myadd = np.frompyfunc(myadd, 2, 1)\n",
    "print(myadd([1,2,3,4],[5,6,7,8]))"
   ]
  },
  {
   "cell_type": "code",
   "execution_count": null,
   "id": "343c62e5-ded4-485a-ab99-78545288ea5d",
   "metadata": {},
   "outputs": [],
   "source": []
  },
  {
   "cell_type": "code",
   "execution_count": null,
   "id": "4a6afb58-5466-4720-8ed1-04cffd46d2b7",
   "metadata": {},
   "outputs": [],
   "source": []
  }
 ],
 "metadata": {
  "kernelspec": {
   "display_name": "Python 3 (ipykernel)",
   "language": "python",
   "name": "python3"
  },
  "language_info": {
   "codemirror_mode": {
    "name": "ipython",
    "version": 3
   },
   "file_extension": ".py",
   "mimetype": "text/x-python",
   "name": "python",
   "nbconvert_exporter": "python",
   "pygments_lexer": "ipython3",
   "version": "3.12.4"
  }
 },
 "nbformat": 4,
 "nbformat_minor": 5
}
